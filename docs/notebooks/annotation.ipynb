{
 "cells": [
  {
   "cell_type": "markdown",
   "metadata": {},
   "source": [
    "# Annotation Tutorial\n",
    "\n",
    "**NB**: please refer to the scVI-dev notebook for introduction of the scVI package.\n",
    "\n",
    "In this notebook, we investigate how semi-supervised learning combined with the probabilistic modelling of latent variables in scVI can help address the annotation problem.\n",
    "\n",
    "The annotation problem consists in labelling cells, ie. **inferring their cell types**, knowing only a part of the labels."
   ]
  },
  {
   "cell_type": "code",
   "execution_count": 1,
   "metadata": {},
   "outputs": [
    {
     "name": "stdout",
     "output_type": "stream",
     "text": [
      "/home/jeff/git/scVI\n"
     ]
    }
   ],
   "source": [
    "cd ../.."
   ]
  },
  {
   "cell_type": "code",
   "execution_count": 2,
   "metadata": {},
   "outputs": [],
   "source": [
    "from scvi.dataset import CortexDataset\n",
    "from scvi.models import SVAEC, VAE\n",
    "from scvi.inference import JointSemiSupervisedVariationalInference"
   ]
  },
  {
   "cell_type": "markdown",
   "metadata": {},
   "source": [
    "We instantiate the SVAEC model and train it over 250 epochs. Only labels from the `data_loader_labelled` will be used, but to cross validate the results, the labels of `data_loader_unlabelled` will is used at test time. The accuracy of the `unlabelled` dataset reaches 93% here at the end of training."
   ]
  },
  {
   "cell_type": "code",
   "execution_count": 3,
   "metadata": {},
   "outputs": [
    {
     "name": "stdout",
     "output_type": "stream",
     "text": [
      "File data/expression.bin already downloaded\n",
      "Preprocessing Cortex data\n",
      "Finished preprocessing Cortex data\n",
      "training: 100%|██████████| 50/50 [00:12<00:00,  3.96it/s]\n"
     ]
    },
    {
     "data": {
      "text/plain": [
       "0.917206132879046"
      ]
     },
     "execution_count": 3,
     "metadata": {},
     "output_type": "execute_result"
    }
   ],
   "source": [
    "gene_dataset = CortexDataset()\n",
    "\n",
    "use_batches=False\n",
    "use_cuda=True\n",
    "\n",
    "svaec = SVAEC(gene_dataset.nb_genes, gene_dataset.n_batches, gene_dataset.n_labels)\n",
    "infer = JointSemiSupervisedVariationalInference(svaec, gene_dataset, n_labelled_samples_per_class=10)\n",
    "infer.train(n_epochs=50)\n",
    "\n",
    "infer.accuracy('unlabelled')"
   ]
  },
  {
   "cell_type": "markdown",
   "metadata": {},
   "source": [
    "**Benchmarking against other algorithms**\n",
    "\n",
    "We can compare ourselves against the random forest and SVM algorithms, where we do grid search with 3-fold cross validation to find the best hyperparameters of these algorithms. This is automatically performed through the functions **`compute_accuracy_svc`** and **`compute_accuracy_rf`**.\n",
    "\n",
    "These functions should be given as input the numpy array corresponding to the equivalent dataloaders, which is the purpose of the **`get_raw_data`** method from `scvi.dataset.utils`.\n",
    "\n",
    "The format of the result is an Accuracy named tuple object giving higher granularity information about the accuracy ie, with attributes:\n",
    "\n",
    "- **unweighted**: the standard definition of accuracy\n",
    "\n",
    "- **weighted**: we might give the same weight to all classes in the final accuracy results. Informative only if the dataset is unbalanced.\n",
    "\n",
    "- **worst**: the worst accuracy score for the classes\n",
    "\n",
    "- **accuracy_classes** : give the detail of the accuracy per classes\n",
    "\n",
    "\n",
    "Compute the accuracy score for rf and svc"
   ]
  },
  {
   "cell_type": "code",
   "execution_count": 4,
   "metadata": {},
   "outputs": [
    {
     "name": "stdout",
     "output_type": "stream",
     "text": [
      "\n",
      "SVC score test :\n",
      " Accuracy(unweighted=0.8701873935264054, weighted=0.8465908861701248, worst=0.7223650385604113, accuracy_classes=[0.794392523364486, 0.9066666666666666, 0.8857142857142857, 0.7954545454545454, 0.9345679012345679, 0.8869752421959096, 0.7223650385604113])\n",
      "\n",
      "RF score train :\n",
      " Accuracy(unweighted=0.9281090289608177, weighted=0.9166938151705352, worst=0.8319672131147541, accuracy_classes=[0.958974358974359, 0.8319672131147541, 0.9169435215946844, 0.9090909090909091, 0.9810844892812106, 0.9173469387755102, 0.9014492753623189])\n"
     ]
    }
   ],
   "source": [
    "svc_scores, rf_scores = infer.svc_rf()\n",
    "print(\"\\nSVC score test :\\n\", svc_scores[1])\n",
    "print(\"\\nRF score train :\\n\", rf_scores[1])"
   ]
  }
 ],
 "metadata": {
  "kernelspec": {
   "display_name": "Python 3",
   "language": "python",
   "name": "python3"
  },
  "language_info": {
   "codemirror_mode": {
    "name": "ipython",
    "version": 3
   },
   "file_extension": ".py",
   "mimetype": "text/x-python",
   "name": "python",
   "nbconvert_exporter": "python",
   "pygments_lexer": "ipython3",
   "version": "3.6.6"
  }
 },
 "nbformat": 4,
 "nbformat_minor": 1
}
