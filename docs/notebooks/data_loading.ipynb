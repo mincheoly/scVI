{
 "cells": [
  {
   "cell_type": "markdown",
   "metadata": {},
   "source": [
    "# Data Loading Tutorial"
   ]
  },
  {
   "cell_type": "code",
   "execution_count": 1,
   "metadata": {},
   "outputs": [
    {
     "name": "stdout",
     "output_type": "stream",
     "text": [
      "/home/jeff/git/scVI\n"
     ]
    }
   ],
   "source": [
    "cd ../.."
   ]
  },
  {
   "cell_type": "code",
   "execution_count": 2,
   "metadata": {},
   "outputs": [],
   "source": [
    "from scvi.dataset import LoomDataset, CsvDataset, Dataset10X, AnnDataset\n",
    "from scvi.dataset import BrainLargeDataset, CortexDataset, PbmcDataset, RetinaDataset, HematoDataset, CbmcDataset, BrainSmallDataset"
   ]
  },
  {
   "cell_type": "markdown",
   "metadata": {},
   "source": [
    "## Generic Datasets\n",
    "`scvi v0.1.3` supports dataset loading for the following three generic file formats: \n",
    "* `.loom` files\n",
    "* `.csv` files \n",
    "* `.h5ad` files\n",
    "* datasets from `10x` website "
   ]
  },
  {
   "cell_type": "markdown",
   "metadata": {},
   "source": [
    "### Loading a `.loom` file\n",
    "Any `.loom` file can be loaded with initializing `LoomDataset` with `filename`. \n",
    "\n",
    "Optional parameters: \n",
    "* `save_path`: save path (default to be `data/`) of the file\n",
    "* `url`: url the dataset if the file needs to be downloaded from the web\n",
    "* `new_n_genes`: the number of subsampling genes - set it to be `False` to turn off subsampling\n",
    "* `subset_genes`: a list of gene names for subsampling"
   ]
  },
  {
   "cell_type": "code",
   "execution_count": 3,
   "metadata": {},
   "outputs": [
    {
     "name": "stdout",
     "output_type": "stream",
     "text": [
      "Downloading file at data/osmFISH_SScortex_mouse_all_cell.loom\n",
      "Preprocessing dataset\n",
      "Finished preprocessing dataset\n"
     ]
    }
   ],
   "source": [
    "# Loading a remote dataset \n",
    "remote_loom_dataset = LoomDataset(\"osmFISH_SScortex_mouse_all_cell.loom\", \n",
    "                                  save_path='data/', \n",
    "                                  url='http://linnarssonlab.org/osmFISH/osmFISH_SScortex_mouse_all_cells.loom')"
   ]
  },
  {
   "cell_type": "code",
   "execution_count": 4,
   "metadata": {},
   "outputs": [
    {
     "name": "stdout",
     "output_type": "stream",
     "text": [
      "File data/osmFISH_SScortex_mouse_all_cell.loom already downloaded\n",
      "Preprocessing dataset\n",
      "Finished preprocessing dataset\n"
     ]
    }
   ],
   "source": [
    "# Loading a local dataset \n",
    "local_loom_dataset = LoomDataset(\"osmFISH_SScortex_mouse_all_cell.loom\", \n",
    "                                 save_path='data/')"
   ]
  },
  {
   "cell_type": "markdown",
   "metadata": {},
   "source": [
    "### Loading a `.csv` file \n",
    "Any `.csv` file can be loaded with initializing `CsvDataset` with `filename`. \n",
    "\n",
    "Optional parameters: \n",
    "* `save_path`: save path (default to be `data/`) of the file\n",
    "* `url`: url of the dataset if the file needs to be downloaded from the web\n",
    "* `compression`: set `compression` as `.gz`, `.bz2`, `.zip`, or `.xz` to load a zipped `csv` file \n",
    "* `new_n_genes`: the number of subsampling genes - set it to be `False` to turn off subsampling\n",
    "* `subset_genes`: a list of gene names for subsampling \n",
    "\n",
    "Note: `CsvDataset` currently only supoorts `.csv` files that are genes by cells. "
   ]
  },
  {
   "cell_type": "code",
   "execution_count": 5,
   "metadata": {},
   "outputs": [
    {
     "name": "stdout",
     "output_type": "stream",
     "text": [
      "Downloading file at data/GSE100866_CBMC_8K_13AB_10X-RNA_umi.csv.gz\n",
      "Preprocessing dataset\n",
      "Finished preprocessing dataset\n",
      "Downsampling from 36280 to 600 genes\n"
     ]
    }
   ],
   "source": [
    "# Loading a remote dataset \n",
    "remote_csv_dataset = CsvDataset(\"GSE100866_CBMC_8K_13AB_10X-RNA_umi.csv.gz\",\n",
    "                                save_path='data/', \n",
    "                                compression='gzip', \n",
    "                                url = \"https://www.ncbi.nlm.nih.gov/geo/download/?acc=GSE100866&format=file&file=GSE100866%5FCBMC%5F8K%5F13AB%5F10X%2DRNA%5Fumi%2Ecsv%2Egz\")"
   ]
  },
  {
   "cell_type": "code",
   "execution_count": 6,
   "metadata": {},
   "outputs": [
    {
     "name": "stdout",
     "output_type": "stream",
     "text": [
      "File data/GSE100866_CBMC_8K_13AB_10X-RNA_umi.csv.gz already downloaded\n",
      "Preprocessing dataset\n",
      "Finished preprocessing dataset\n",
      "Downsampling from 36280 to 600 genes\n"
     ]
    }
   ],
   "source": [
    "# Loading a local dataset \n",
    "local_csv_dataset = CsvDataset(\"GSE100866_CBMC_8K_13AB_10X-RNA_umi.csv.gz\", \n",
    "                               save_path='data/', \n",
    "                               compression='gzip') "
   ]
  },
  {
   "cell_type": "markdown",
   "metadata": {},
   "source": [
    "### Loading a `.h5ad` file\n",
    "[AnnData](http://anndata.readthedocs.io/en/latest/) objects can be stored in `.h5ad` format. Any `.h5ad` file can be loaded with initializing `AnnDataset` with `filename`. \n",
    "\n",
    "Optional parameters: \n",
    "* `save_path`: save path (default to be `data/`) of the file\n",
    "* `url`: url the dataset if the file needs to be downloaded from the web\n",
    "* `new_n_genes`: the number of subsampling genes - set it to be `False` to turn off subsampling\n",
    "* `subset_genes`: a list of gene names for subsampling "
   ]
  },
  {
   "cell_type": "code",
   "execution_count": 3,
   "metadata": {},
   "outputs": [
    {
     "name": "stdout",
     "output_type": "stream",
     "text": [
      "File data/TM_droplet_mat.h5ad already downloaded\n",
      "Preprocessing dataset\n",
      "Finished preprocessing dataset\n"
     ]
    }
   ],
   "source": [
    "# Loading a local dataset \n",
    "local_ann_dataset = AnnDataset(\"TM_droplet_mat.h5ad\", \n",
    "                               save_path = 'data/') "
   ]
  },
  {
   "cell_type": "markdown",
   "metadata": {},
   "source": [
    "### Loading a file from `10x` website "
   ]
  },
  {
   "cell_type": "markdown",
   "metadata": {},
   "source": [
    "`10x` has published several datasets on their [website](https://www.10xgenomics.com). \n",
    "Initialize `Dataset10X` by passing in the dataset name of one of the following datasets that `scvi` currently supports: `frozen_pbmc_donor_a`, `frozen_pbmc_donor_b`, `frozen_pbmc_donor_c`, `pbmc8k`, `pbmc4k`, `t_3k`, `t_4k`, and `neuron_9k`. \n",
    "\n",
    "Optional parameters: \n",
    "* `save_path`: save path (default to be `data/`) of the file\n",
    "* `type`: set `type` (default to be `filtered`) to be `filtered` or `raw` to choose one from the two datasets that's available on `10X`\n",
    "* `new_n_genes`: the number of subsampling genes - set it to be `False` to turn off subsampling"
   ]
  },
  {
   "cell_type": "code",
   "execution_count": 4,
   "metadata": {},
   "outputs": [
    {
     "name": "stdout",
     "output_type": "stream",
     "text": [
      "Downloading file at data/10X/neuron_9k/filtered_gene_bc_matrices.tar.gz\n",
      "Preprocessing dataset\n",
      "Extracting tar file\n",
      "Finished preprocessing dataset\n",
      "Downsampling from 27998 to 3000 genes\n"
     ]
    }
   ],
   "source": [
    "tenX_dataset = Dataset10X(\"neuron_9k\")"
   ]
  },
  {
   "cell_type": "markdown",
   "metadata": {},
   "source": [
    "## Built-In Datasets "
   ]
  },
  {
   "cell_type": "markdown",
   "metadata": {},
   "source": [
    "We've also implemented seven built-in datasets to make it easier to reproduce results from the scVI paper. \n",
    "\n",
    "* **PBMC**: 12,039 human peripheral blood mononuclear cells profiled with 10x; \n",
    "* **RETINA**: 27,499 mouse retinal bipolar neurons, profiled in two batches using the Drop-Seq technology; \n",
    "* **HEMATO**: 4,016 cells from two batches that were profiled using in-drop; \n",
    "* **CBMC**: 8,617 cord blood mononuclear cells profiled using 10x along with, for each cell, 13 well-characterized mononuclear antibodies; \n",
    "* **BRAIN SMALL**: 9,128 mouse brain cells profiled using 10x. "
   ]
  },
  {
   "cell_type": "markdown",
   "metadata": {},
   "source": [
    "### Loading `BRAIN-LARGE` dataset\n",
    "\n",
    "<font color='red'>Loading BRAIN-LARGE requires at least 32 GB memory!</font>\n",
    "\n",
    "`BrainLargeDataset` consists of 1.3 million mouse brain cells, spanning the cortex, hippocampus and subventricular zone, and profiled with 10x chromium. We use this dataset to demonstrate the scalability of scVI. It can be used to demonstrate the scalability of scVI.  \n",
    "\n",
    "Reference: 10x genomics (2017). URL https://support.10xgenomics.com/single-cell-gene-expression/datasets. "
   ]
  },
  {
   "cell_type": "code",
   "execution_count": 5,
   "metadata": {},
   "outputs": [
    {
     "name": "stdout",
     "output_type": "stream",
     "text": [
      "Downloading file at data/genomics.h5\n",
      "Preprocessing Brain Large data\n",
      "720 genes subsampled\n",
      "1306127 cells subsampled\n",
      "Finished preprocessing data\n"
     ]
    }
   ],
   "source": [
    "brain_large_dataset = BrainLargeDataset() "
   ]
  },
  {
   "cell_type": "markdown",
   "metadata": {},
   "source": [
    "### Loading `CORTEX` dataset\n",
    "`CortexDataset` consists of 3,005 mouse cortex cells profiled with the Smart-seq2 protocol, with the addition of UMI. To facilitate com- parison with other methods, we use a filtered set of 558 highly variable genes. The `CortexDataset` exhibits a clear high-level subpopulation struc- ture, which has been inferred by the authors of the original publication using computational tools and annotated by inspection of specific genes or transcriptional programs. Similar levels of annotation are provided with the `PbmcDataset` and `RetinaDataset`. \n",
    "\n",
    "Reference: Zeisel, A. et al. Cell types in the mouse cortex and hippocampus revealed by single-cell rna-seq. Science 347, 1138–1142 (2015). "
   ]
  },
  {
   "cell_type": "code",
   "execution_count": 6,
   "metadata": {},
   "outputs": [
    {
     "name": "stdout",
     "output_type": "stream",
     "text": [
      "Downloading file at data/expression.bin\n",
      "Preprocessing Cortex data\n",
      "Finished preprocessing Cortex data\n"
     ]
    }
   ],
   "source": [
    "cortex_dataset = CortexDataset() "
   ]
  },
  {
   "cell_type": "markdown",
   "metadata": {},
   "source": [
    "### Loading `PBMC` dataset\n",
    "`PbmcDataset` consists of 12,039 human peripheral blood mononu- clear cells profiled with 10x. \n",
    "\n",
    "Reference: Zheng, G. X. Y. et al. Massively parallel digital transcriptional profiling of single cells. Nature Communications 8, 14049 (2017). "
   ]
  },
  {
   "cell_type": "code",
   "execution_count": 2,
   "metadata": {},
   "outputs": [
    {
     "name": "stdout",
     "output_type": "stream",
     "text": [
      "Downloading file at data/10X/pbmc8k/filtered_gene_bc_matrices.tar.gz\n",
      "Preprocessing dataset\n",
      "Extracting tar file\n",
      "Finished preprocessing dataset\n",
      "Downsampling from 33694 to 3000 genes\n",
      "Downloading file at data/10X/pbmc4k/filtered_gene_bc_matrices.tar.gz\n",
      "Preprocessing dataset\n",
      "Extracting tar file\n",
      "Finished preprocessing dataset\n",
      "Downsampling from 33694 to 3000 genes\n",
      "Keeping 2903 genes\n"
     ]
    }
   ],
   "source": [
    "pbmc_dataset = PbmcDataset() "
   ]
  },
  {
   "cell_type": "markdown",
   "metadata": {},
   "source": [
    "### Loading `RETINA` dataset \n",
    "`RetinaDataset` includes 27,499 mouse retinal bipolar neu- rons, profiled in two batches using the Drop-Seq technology. \n",
    "\n",
    "Reference: Shekhar, K. et al. Comprehensive classification of retinal bipolar neurons by single-cell transcriptomics. Cell 166, 1308–1323.e30 (2017). "
   ]
  },
  {
   "cell_type": "code",
   "execution_count": 8,
   "metadata": {},
   "outputs": [
    {
     "name": "stdout",
     "output_type": "stream",
     "text": [
      "Downloading file at data/retina.loom\n",
      "Preprocessing dataset\n",
      "Finished preprocessing dataset\n"
     ]
    }
   ],
   "source": [
    "retina_dataset = RetinaDataset()"
   ]
  },
  {
   "cell_type": "markdown",
   "metadata": {},
   "source": [
    "### Loading `HEMATO` dataset \n",
    "`HematoDataset` includes 4,016 cells from two batches that were profiled using in-drop. This data provides a snapshot of hematopoietic progenitor cells differentiating into various lineages. We use this dataset as an example for cases where gene expression varies in a continuous fashion (along pseudo-temporal axes) rather than forming discrete subpopulations. \n",
    "\n",
    "Reference: Tusi, B. K. et al. Population snapshots predict early haematopoietic and erythroid hierarchies. Nature 555, 54–60 (2018)."
   ]
  },
  {
   "cell_type": "code",
   "execution_count": 10,
   "metadata": {},
   "outputs": [
    {
     "name": "stdout",
     "output_type": "stream",
     "text": [
      "Downloading data.zip\n",
      "Downloading file at data/HEMATO/bBM.raw_umifm_counts.csv.gz\n",
      "Preprocessing Hemato data\n",
      "Finished preprocessing Hemato data\n"
     ]
    }
   ],
   "source": [
    "hemato_dataset = HematoDataset() "
   ]
  },
  {
   "cell_type": "markdown",
   "metadata": {},
   "source": [
    "### Loading `CBMC` dataset\n",
    "`CbmcDataset` includes 8,617 cord blood mononuclear cells pro- filed using 10x along with, for each cell, 13 well-characterized mononuclear antibodies. We used this dataset to analyze how the latent spaces inferred by dimensionality-reduction algorithms summarize protein marker abundance.\n",
    "\n",
    "Reference: Stoeckius, M. et al. Simultaneous epitope and transcriptome measurement in single cells. Nature Methods 14, 865–868 (2017)."
   ]
  },
  {
   "cell_type": "code",
   "execution_count": 9,
   "metadata": {},
   "outputs": [
    {
     "name": "stdout",
     "output_type": "stream",
     "text": [
      "Downloading file at data/citeSeq/cbmc/cbmc_rna.csv.gz\n",
      "Downloading file at data/citeSeq/cbmc/cbmc_adt.csv.gz\n",
      "Downloading file at data/citeSeq/cbmc/cbmc_adt_centered.csv.gz\n",
      "Preprocessing data\n",
      "Selecting only HUMAN genes (20400 / 36280)\n",
      "Finish preprocessing data\n"
     ]
    }
   ],
   "source": [
    "cbmc_dataset = CbmcDataset()"
   ]
  },
  {
   "cell_type": "markdown",
   "metadata": {},
   "source": [
    "### Loading `BRAIN-SMALL` dataset\n",
    "`BrainSmallDataset` consists of 9,128 mouse brain cells profiled using 10x. This dataset is used as a complement to PBMC for our study of zero abundance and quality control metrics correlation with our generative posterior parameters.\n",
    "\n",
    "Reference: "
   ]
  },
  {
   "cell_type": "code",
   "execution_count": 10,
   "metadata": {},
   "outputs": [
    {
     "name": "stdout",
     "output_type": "stream",
     "text": [
      "File data/10X/neuron_9k/filtered_gene_bc_matrices.tar.gz already downloaded\n",
      "Preprocessing dataset\n",
      "Finished preprocessing dataset\n",
      "Downsampling from 27998 to 3000 genes\n"
     ]
    }
   ],
   "source": [
    "brain_small_dataset = BrainSmallDataset()"
   ]
  },
  {
   "cell_type": "code",
   "execution_count": null,
   "metadata": {},
   "outputs": [],
   "source": []
  }
 ],
 "metadata": {
  "kernelspec": {
   "display_name": "Python 3",
   "language": "python",
   "name": "python3"
  },
  "language_info": {
   "codemirror_mode": {
    "name": "ipython",
    "version": 3
   },
   "file_extension": ".py",
   "mimetype": "text/x-python",
   "name": "python",
   "nbconvert_exporter": "python",
   "pygments_lexer": "ipython3",
   "version": "3.6.6"
  }
 },
 "nbformat": 4,
 "nbformat_minor": 2
}
